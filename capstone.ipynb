{
 "cells": [
  {
   "cell_type": "markdown",
   "id": "3cb1b2d6-7a78-4a78-b19c-fc8c7feb2fd9",
   "metadata": {},
   "source": [
    "## CAPSTONE PROJECT ##"
   ]
  },
  {
   "cell_type": "markdown",
   "id": "12b3f422-591f-4d3d-b44f-3a01db3e26b5",
   "metadata": {},
   "source": [
    "###### DATA SCIENCE #######"
   ]
  },
  {
   "cell_type": "markdown",
   "id": "76d3c469-f582-4c4f-9460-6a22b30a2bc2",
   "metadata": {},
   "source": [
    "##### THIS NOTEBOOK WOULD MAINLY BE USED FOR CAPSTONE PROJECT #####"
   ]
  },
  {
   "cell_type": "code",
   "execution_count": 2,
   "id": "ec47c735-e1a9-427d-b8fb-112d6141f4db",
   "metadata": {},
   "outputs": [],
   "source": [
    "import pandas as pd"
   ]
  },
  {
   "cell_type": "code",
   "execution_count": 3,
   "id": "d8f0d8e5-5c0d-473b-aa22-ee8fdad4f813",
   "metadata": {},
   "outputs": [],
   "source": [
    "import numpy as np"
   ]
  },
  {
   "cell_type": "code",
   "execution_count": 4,
   "id": "7b5bc746-e96a-40e1-a10e-53e19622a55e",
   "metadata": {},
   "outputs": [
    {
     "name": "stdout",
     "output_type": "stream",
     "text": [
      "Hello Capstone Project course\n"
     ]
    }
   ],
   "source": [
    "print(\"Hello Capstone Project course\")"
   ]
  },
  {
   "cell_type": "code",
   "execution_count": null,
   "id": "f60d98a1-e87c-4169-a3c0-e57dbf2be200",
   "metadata": {},
   "outputs": [],
   "source": []
  }
 ],
 "metadata": {
  "kernelspec": {
   "display_name": "Python 3",
   "language": "python",
   "name": "python3"
  },
  "language_info": {
   "codemirror_mode": {
    "name": "ipython",
    "version": 3
   },
   "file_extension": ".py",
   "mimetype": "text/x-python",
   "name": "python",
   "nbconvert_exporter": "python",
   "pygments_lexer": "ipython3",
   "version": "3.8.8"
  }
 },
 "nbformat": 4,
 "nbformat_minor": 5
}
